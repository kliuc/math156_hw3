{
 "cells": [
  {
   "cell_type": "code",
   "execution_count": 1,
   "id": "acdaa78e",
   "metadata": {},
   "outputs": [],
   "source": [
    "import numpy as np\n",
    "import layers\n",
    "import activations\n",
    "import nn\n",
    "import losses\n",
    "import optimizers"
   ]
  },
  {
   "cell_type": "code",
   "execution_count": 2,
   "id": "748e870c",
   "metadata": {},
   "outputs": [
    {
     "name": "stdout",
     "output_type": "stream",
     "text": [
      "WARNING:tensorflow:From c:\\Users\\kevin\\Desktop\\MATH156\\math156.env\\Lib\\site-packages\\keras\\src\\losses.py:2976: The name tf.losses.sparse_softmax_cross_entropy is deprecated. Please use tf.compat.v1.losses.sparse_softmax_cross_entropy instead.\n",
      "\n",
      "Epoch 0, Loss: 0.5544775695595975\n",
      "Epoch 1, Loss: 0.5171000642883393\n",
      "Epoch 2, Loss: 0.3405988143355718\n",
      "Epoch 3, Loss: 0.3949972329713173\n",
      "Epoch 4, Loss: 0.33975927632970676\n",
      "Epoch 5, Loss: 0.31942744801939355\n",
      "Epoch 6, Loss: 0.293766661170517\n"
     ]
    },
    {
     "name": "stderr",
     "output_type": "stream",
     "text": [
      "c:\\Users\\kevin\\Desktop\\MATH156\\hw3\\activations.py:9: RuntimeWarning: overflow encountered in exp\n",
      "  self.sigmoid = 1 / (1 + np.exp(-z))\n"
     ]
    },
    {
     "name": "stdout",
     "output_type": "stream",
     "text": [
      "Epoch 7, Loss: 0.2895751397833564\n",
      "Epoch 8, Loss: 0.27565757201051777\n",
      "Epoch 9, Loss: 0.25406838861717573\n",
      "Epoch 10, Loss: 0.2937349319841371\n",
      "Epoch 11, Loss: 0.25905779238105275\n",
      "Epoch 12, Loss: 0.2742730521386879\n",
      "Epoch 13, Loss: 0.2991075883583681\n",
      "Epoch 14, Loss: 0.28951040928198535\n",
      "Epoch 15, Loss: 0.27464894188011685\n",
      "Epoch 16, Loss: 0.30465321701526704\n",
      "Epoch 17, Loss: 0.275647221635631\n",
      "Epoch 18, Loss: 0.25562322257926445\n",
      "Epoch 19, Loss: 0.21930652595787417\n",
      "Epoch 20, Loss: 0.2401192497470854\n",
      "Epoch 21, Loss: 0.2093577705006194\n",
      "Epoch 22, Loss: 0.24595037261573138\n",
      "Epoch 23, Loss: 0.20762793743554314\n",
      "Epoch 24, Loss: 0.25455182224294026\n",
      "Epoch 25, Loss: 0.26766279009675614\n",
      "Epoch 26, Loss: 0.2281367868332657\n",
      "Epoch 27, Loss: 0.22345947724225923\n",
      "Epoch 28, Loss: 0.25657600837618033\n",
      "Epoch 29, Loss: 0.2080499322993917\n",
      "Accuracy: 0.9627\n"
     ]
    }
   ],
   "source": [
    "from keras.datasets import mnist\n",
    "import numpy as np\n",
    "\n",
    "# Load and preprocess the MNIST dataset\n",
    "(X_train, y_train), (X_test, y_test) = mnist.load_data()\n",
    "X_train = X_train.reshape(-1, 784) / 255.0\n",
    "X_test = X_test.reshape(-1, 784) / 255.0\n",
    "\n",
    "# Convert labels to one-hot encoded vectors\n",
    "def one_hot_encode(labels, num_classes):\n",
    "    num_samples = labels.shape[0]\n",
    "    encoded_labels = np.zeros((num_samples, num_classes))\n",
    "    for i in range(num_samples):\n",
    "        encoded_labels[i, labels[i]] = 1\n",
    "    return encoded_labels\n",
    "\n",
    "num_classes = 10\n",
    "y_train_one_hot = one_hot_encode(y_train, num_classes)\n",
    "y_test_one_hot = one_hot_encode(y_test, num_classes)\n",
    "\n",
    "\n",
    "# Create the model\n",
    "input_size = 784\n",
    "num_units = 128\n",
    "model = nn.Sequential()\n",
    "model.add(layers.InputLayer(input_shape=input_size))\n",
    "model.add(layers.Dense(input_size, num_units, activation=activations.Sigmoid, optimizer=optimizers.RMSprop))\n",
    "model.add(layers.Dense(num_units, num_classes, activation=activations.Softmax, optimizer=optimizers.RMSprop))\n",
    "\n",
    "# Train the model\n",
    "epochs = 30\n",
    "learning_rate = 0.1\n",
    "batch_size = 128\n",
    "model.train(X_train.T, y_train_one_hot.T, epochs, learning_rate, batch_size, loss=losses.Cross_Entropy)\n",
    "\n",
    "# Make predictions\n",
    "predictions = model.predict(X_test.T)\n",
    "\n",
    "# Convert predictions to class labels\n",
    "predicted_labels = np.argmax(predictions, axis=0)\n",
    "\n",
    "# Calculate accuracy\n",
    "accuracy = np.mean(predicted_labels == y_test)\n",
    "print(\"Accuracy:\", accuracy)"
   ]
  }
 ],
 "metadata": {
  "kernelspec": {
   "display_name": "Python 3 (ipykernel)",
   "language": "python",
   "name": "python3"
  },
  "language_info": {
   "codemirror_mode": {
    "name": "ipython",
    "version": 3
   },
   "file_extension": ".py",
   "mimetype": "text/x-python",
   "name": "python",
   "nbconvert_exporter": "python",
   "pygments_lexer": "ipython3",
   "version": "3.11.3"
  }
 },
 "nbformat": 4,
 "nbformat_minor": 5
}
